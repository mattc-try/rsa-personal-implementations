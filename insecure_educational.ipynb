{
 "cells": [
  {
   "cell_type": "markdown",
   "id": "ad723d",
   "metadata": {
    "collapsed": false
   },
   "source": [
    "# Security 2: HW 2 \\- Exercise on RSA\n",
    "\n",
    "In this document is the python sagemath notebook solution to the homework, this implementation would not be secure for use no proper padding PSS or OAEP, not constant time due to python optimizations, uses SHA\\-1 for hashing which is weak for modern security needs, the randomness used in key generation may not be very cryptographically secure.\n"
   ]
  },
  {
   "cell_type": "markdown",
   "id": "25d593",
   "metadata": {
    "collapsed": false
   },
   "source": [
    "### As extra I made 2 other versions in C that are available here: [https://github.com/mattc\\-try/rsa\\-personal\\-implementations](https://github.com/mattc-try/rsa-personal-implementations)\n",
    "\n",
    "1 using standard bignum and sha from openssl, I am quite familiar with it\n",
    "\n",
    "2 pure C implementation, with some assembly optimization if I have time to finish it by the deadline \\(not tested for any security but trying to code constant time\\)\n",
    "\n"
   ]
  },
  {
   "cell_type": "code",
   "execution_count": 1,
   "id": "4cd62b",
   "metadata": {
    "collapsed": false
   },
   "outputs": [
   ],
   "source": [
    "import hashlib\n",
    "\n",
    "def keyGen(n=512):\n",
    "    \"\"\"Generate RSA keys (N, p, q, e, d) with modulus N (bit size n)\"\"\"\n",
    "    # Generate two distinct primes p and q of n/2 bits each\n",
    "    lower = 2^(n//2 - 1)\n",
    "    upper = 2^(n//2) - 1\n",
    "    p = random_prime(upper, lbound=lower)\n",
    "    q = random_prime(upper, lbound=lower)\n",
    "    while p == q:\n",
    "        q = random_prime(upper, lbound=lower)\n",
    "    Nn = p * q\n",
    "    phi_N = (p-1)*(q-1)\n",
    "    \n",
    "    # Choose e such that gcd(e, phi_N) = 1\n",
    "    e = ZZ.random_element(2, phi_N)\n",
    "    while gcd(e, phi_N) != 1:\n",
    "        e = ZZ.random_element(2, phi_N)\n",
    "    d = inverse_mod(e, phi_N)\n",
    "    return Nn, p, q, e, d\n",
    "\n"
   ]
  },
  {
   "cell_type": "code",
   "execution_count": 2,
   "id": "04e9ef",
   "metadata": {
    "collapsed": false
   },
   "outputs": [
   ],
   "source": [
    "def encrypt(m, Nn, e):\n",
    "    \"\"\"Encrypt message m using public key (N, e).\"\"\"\n",
    "    return pow(m, e, Nn)\n",
    "\n",
    "def decrypt(c, Nn, d):\n",
    "    \"\"\"Decrypt ciphertext c using private key (N, d).\"\"\"\n",
    "    return pow(c, d, Nn)\n",
    "\n",
    "def checkEnc():\n",
    "    \"\"\"Verify encryption/decryption correctness.\"\"\"\n",
    "    Nn, p, q, e, d = keyGen()\n",
    "    m = ZZ.random_element(Nn)\n",
    "    c = encrypt(m, Nn, e)\n",
    "    m_decrypted = decrypt(c, Nn, d)\n",
    "    assert m_decrypted == m, \"Decryption failed\"\n",
    "    print(\"Encryption check passed.\")\n",
    "\n"
   ]
  },
  {
   "cell_type": "code",
   "execution_count": 3,
   "id": "db6ee8",
   "metadata": {
    "collapsed": false
   },
   "outputs": [
    {
     "name": "stdout",
     "output_type": "stream",
     "text": [
      "Encryption check passed.\n"
     ]
    }
   ],
   "source": [
    "checkEnc()"
   ]
  },
  {
   "cell_type": "code",
   "execution_count": 4,
   "id": "0453f5",
   "metadata": {
    "collapsed": false
   },
   "outputs": [
   ],
   "source": [
    "def sha1_hash(m):\n",
    "    \"\"\"Compute SHA-1 hash of string m and return hex digest.\"\"\"\n",
    "    h = hashlib.sha1()\n",
    "    h.update(m.encode(\"utf-8\"))\n",
    "    return h.hexdigest()\n",
    "\n",
    "def fullHash(m, IN):\n",
    "    \"\"\"Compute hash value H(m) with output size IN-4 bits.\"\"\"\n",
    "    k = ceil(IN / 160)  # SHA-1 produces 160-bit (40 hex) hashes\n",
    "    hf = \"\".join(sha1_hash(m + str(i)) for i in range(k))\n",
    "    # Truncate to (IN//4 -1) hex chars to get IN-4 bits\n",
    "    truncated_length = (IN // 4) - 1\n",
    "    hf = hf[:truncated_length]\n",
    "    return Integer(hf, base=16)\n",
    "\n",
    "def sign(m, Nn, d):\n",
    "    \"\"\"Sign message m using private key d.\"\"\"\n",
    "    IN = Nn.nbits()\n",
    "    h_m = fullHash(m, IN)\n",
    "    sigma = pow(h_m, d, Nn)\n",
    "    return sigma\n",
    "\n",
    "def verify(sigma, m, Nn, e):\n",
    "    \"\"\"Verify signature sigma using public key e.\"\"\"\n",
    "    IN = Nn.nbits()\n",
    "    h_m = fullHash(m, IN)\n",
    "    h_prime = pow(sigma, e, Nn)\n",
    "    return h_prime == h_m\n",
    "\n",
    "def checkSig():\n",
    "    \"\"\"Verify signature generation/verification correctness.\"\"\"\n",
    "    Nn, p, q, e, d = keyGen()\n",
    "    m = \"message\"\n",
    "    sigma = sign(m, Nn, d)\n",
    "    assert verify(sigma, m, Nn, e), \"Signature verification failed\"\n",
    "    print(\"Signature check passed.\")\n"
   ]
  },
  {
   "cell_type": "code",
   "execution_count": 5,
   "id": "dca922",
   "metadata": {
    "collapsed": false
   },
   "outputs": [
    {
     "name": "stdout",
     "output_type": "stream",
     "text": [
      "Signature check passed.\n"
     ]
    }
   ],
   "source": [
    "checkSig()"
   ]
  },
  {
   "cell_type": "code",
   "execution_count": 0,
   "id": "ea99a4",
   "metadata": {
    "collapsed": false
   },
   "outputs": [
   ],
   "source": [
   ]
  }
 ],
 "metadata": {
  "kernelspec": {
   "argv": [
    "sage-10.4",
    "--python",
    "-m",
    "sage.repl.ipython_kernel",
    "--matplotlib=inline",
    "-f",
    "{connection_file}"
   ],
   "display_name": "SageMath 10.4",
   "env": {
   },
   "language": "sagemath",
   "metadata": {
    "cocalc": {
     "description": "Open-source mathematical software system",
     "priority": 10,
     "url": "https://www.sagemath.org/"
    }
   },
   "name": "sage-10.4",
   "resource_dir": "/ext/jupyter/kernels/sage-10.4"
  },
  "language_info": {
   "codemirror_mode": {
    "name": "ipython",
    "version": 3
   },
   "file_extension": ".py",
   "mimetype": "text/x-python",
   "name": "python",
   "nbconvert_exporter": "python",
   "pygments_lexer": "ipython3",
   "version": "3.12.4"
  }
 },
 "nbformat": 4,
 "nbformat_minor": 4
}